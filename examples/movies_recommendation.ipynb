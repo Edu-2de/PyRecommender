{
 "cells": [
  {
   "cell_type": "code",
   "execution_count": 1,
   "id": "f1941efb",
   "metadata": {},
   "outputs": [
    {
     "name": "stdout",
     "output_type": "stream",
     "text": [
      "Computing the msd similarity matrix...\n",
      "Done computing similarity matrix.\n",
      "[('A', 4.666666666666667), ('C', 4.333333333333333)]\n"
     ]
    }
   ],
   "source": [
    "import pandas as pd\n",
    "import sys\n",
    "sys.path.append('../src')\n",
    "from recommender import Recommender\n",
    "\n",
    "# Exemplo de dataset de ratings\n",
    "df = pd.DataFrame({\n",
    "    'user': [1, 1, 1, 2, 2, 3],\n",
    "    'item': ['A', 'B', 'C', 'A', 'C', 'B'],\n",
    "    'rating': [5, 3, 4, 4, 5, 2]\n",
    "})\n",
    "\n",
    "rec = Recommender()\n",
    "rec.fit(df)\n",
    "print(rec.get_top_n(user_id=1, n=2))"
   ]
  }
 ],
 "metadata": {
  "kernelspec": {
   "display_name": ".venv",
   "language": "python",
   "name": "python3"
  },
  "language_info": {
   "codemirror_mode": {
    "name": "ipython",
    "version": 3
   },
   "file_extension": ".py",
   "mimetype": "text/x-python",
   "name": "python",
   "nbconvert_exporter": "python",
   "pygments_lexer": "ipython3",
   "version": "3.12.10"
  }
 },
 "nbformat": 4,
 "nbformat_minor": 5
}

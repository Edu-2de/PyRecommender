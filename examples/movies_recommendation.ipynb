{
 "cells": [
  {
   "cell_type": "code",
   "execution_count": 7,
   "id": "f1941efb",
   "metadata": {},
   "outputs": [
    {
     "name": "stdout",
     "output_type": "stream",
     "text": [
      "Computing the msd similarity matrix...\n",
      "Done computing similarity matrix.\n",
      "IDs recomendados: [131724, 5746, 6835, 3851, 1151]\n",
      "The Jinx: The Life and Deaths of Robert Durst (2015) (score: 5.00)\n",
      "Galaxy of Terror (Quest) (1981) (score: 5.00)\n",
      "Alien Contamination (1980) (score: 5.00)\n",
      "I'm the One That I Want (2000) (score: 5.00)\n",
      "Lesson Faust (1994) (score: 5.00)\n"
     ]
    }
   ],
   "source": [
    "import pandas as pd\n",
    "import sys\n",
    "sys.path.append('../src')\n",
    "from recommender import Recommender\n",
    "\n",
    "ratings = pd.read_csv('../data/ml-latest-small/ml-latest-small/ratings.csv')\n",
    "movies = pd.read_csv('../data/ml-latest-small/ml-latest-small/movies.csv')\n",
    "\n",
    "\n",
    "df = ratings.rename(columns={'userId': 'user', 'movieId': 'item', 'rating': 'rating'})\n",
    "\n",
    "rec = Recommender()\n",
    "rec.fit(df)\n",
    "\n",
    "top_n = rec.get_top_n(user_id=1, n=5)\n",
    "\n",
    "print(\"IDs recomendados:\", [movie_id for movie_id, _ in top_n])\n",
    "\n",
    "for movie_id, score in top_n:\n",
    "    movie_id_int = int(movie_id)\n",
    "    title = movies.loc[movies['movieId'] == movie_id_int, 'title'].values\n",
    "    if len(title) > 0:\n",
    "        print(f\"{title[0]} (score: {score:.2f})\")\n",
    "    else:\n",
    "        print(f\"Filme com ID {movie_id_int} não encontrado (score: {score:.2f})\")"
   ]
  }
 ],
 "metadata": {
  "kernelspec": {
   "display_name": ".venv",
   "language": "python",
   "name": "python3"
  },
  "language_info": {
   "codemirror_mode": {
    "name": "ipython",
    "version": 3
   },
   "file_extension": ".py",
   "mimetype": "text/x-python",
   "name": "python",
   "nbconvert_exporter": "python",
   "pygments_lexer": "ipython3",
   "version": "3.12.10"
  }
 },
 "nbformat": 4,
 "nbformat_minor": 5
}
